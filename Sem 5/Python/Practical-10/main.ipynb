{
 "cells": [
  {
   "cell_type": "code",
   "execution_count": 1,
   "metadata": {},
   "outputs": [
    {
     "name": "stdout",
     "output_type": "stream",
     "text": [
      "Collecting reportlab\n",
      "  Downloading reportlab-4.2.5-py3-none-any.whl.metadata (1.5 kB)\n",
      "Requirement already satisfied: pillow>=9.0.0 in /home/rebel/anaconda3/lib/python3.12/site-packages (from reportlab) (10.4.0)\n",
      "Requirement already satisfied: chardet in /home/rebel/anaconda3/lib/python3.12/site-packages (from reportlab) (4.0.0)\n",
      "Downloading reportlab-4.2.5-py3-none-any.whl (1.9 MB)\n",
      "\u001b[2K   \u001b[90m━━━━━━━━━━━━━━━━━━━━━━━━━━━━━━━━━━━━━━━━\u001b[0m \u001b[32m1.9/1.9 MB\u001b[0m \u001b[31m132.2 kB/s\u001b[0m eta \u001b[36m0:00:00\u001b[0ma \u001b[36m0:00:01\u001b[0m\n",
      "\u001b[?25hInstalling collected packages: reportlab\n",
      "Successfully installed reportlab-4.2.5\n"
     ]
    }
   ],
   "source": [
    "!pip3 install reportlab"
   ]
  },
  {
   "cell_type": "markdown",
   "metadata": {},
   "source": [
    "# Import Required Library"
   ]
  },
  {
   "cell_type": "code",
   "execution_count": 2,
   "metadata": {},
   "outputs": [],
   "source": [
    "import pandas as pd\n",
    "from reportlab.lib.pagesizes import A4\n",
    "from reportlab.platypus import SimpleDocTemplate,Table,TableStyle\n",
    "from reportlab.lib import colors\n",
    "import os\n",
    "import datetime as dt"
   ]
  },
  {
   "cell_type": "markdown",
   "metadata": {},
   "source": [
    "# Load Data and Calculate Total Amount"
   ]
  },
  {
   "cell_type": "code",
   "execution_count": 3,
   "metadata": {},
   "outputs": [],
   "source": [
    "# Load dataset\n",
    "df=pd.read_csv('orders.csv')"
   ]
  },
  {
   "cell_type": "code",
   "execution_count": 4,
   "metadata": {},
   "outputs": [],
   "source": [
    "# Calculate total amount of each product\n",
    "df['Total Amount']=df['Unit Price']*df['Quantity']"
   ]
  },
  {
   "cell_type": "code",
   "execution_count": 5,
   "metadata": {},
   "outputs": [
    {
     "data": {
      "text/html": [
       "<div>\n",
       "<style scoped>\n",
       "    .dataframe tbody tr th:only-of-type {\n",
       "        vertical-align: middle;\n",
       "    }\n",
       "\n",
       "    .dataframe tbody tr th {\n",
       "        vertical-align: top;\n",
       "    }\n",
       "\n",
       "    .dataframe thead th {\n",
       "        text-align: right;\n",
       "    }\n",
       "</style>\n",
       "<table border=\"1\" class=\"dataframe\">\n",
       "  <thead>\n",
       "    <tr style=\"text-align: right;\">\n",
       "      <th></th>\n",
       "      <th>Order ID</th>\n",
       "      <th>Customer Name</th>\n",
       "      <th>Product Name</th>\n",
       "      <th>Quantity</th>\n",
       "      <th>Unit Price</th>\n",
       "      <th>Total Amount</th>\n",
       "    </tr>\n",
       "  </thead>\n",
       "  <tbody>\n",
       "    <tr>\n",
       "      <th>0</th>\n",
       "      <td>1</td>\n",
       "      <td>Rahul Sharma</td>\n",
       "      <td>Wireless Mouse</td>\n",
       "      <td>2</td>\n",
       "      <td>15.99</td>\n",
       "      <td>31.98</td>\n",
       "    </tr>\n",
       "    <tr>\n",
       "      <th>1</th>\n",
       "      <td>2</td>\n",
       "      <td>Priya Patel</td>\n",
       "      <td>USB-C Adapter</td>\n",
       "      <td>1</td>\n",
       "      <td>12.50</td>\n",
       "      <td>12.50</td>\n",
       "    </tr>\n",
       "    <tr>\n",
       "      <th>2</th>\n",
       "      <td>3</td>\n",
       "      <td>Amit Kumar</td>\n",
       "      <td>Keyboard</td>\n",
       "      <td>1</td>\n",
       "      <td>29.99</td>\n",
       "      <td>29.99</td>\n",
       "    </tr>\n",
       "    <tr>\n",
       "      <th>3</th>\n",
       "      <td>4</td>\n",
       "      <td>Neha Singh</td>\n",
       "      <td>Monitor</td>\n",
       "      <td>1</td>\n",
       "      <td>199.99</td>\n",
       "      <td>199.99</td>\n",
       "    </tr>\n",
       "    <tr>\n",
       "      <th>4</th>\n",
       "      <td>5</td>\n",
       "      <td>Ananya Iyer</td>\n",
       "      <td>Laptop Stand</td>\n",
       "      <td>3</td>\n",
       "      <td>24.50</td>\n",
       "      <td>73.50</td>\n",
       "    </tr>\n",
       "  </tbody>\n",
       "</table>\n",
       "</div>"
      ],
      "text/plain": [
       "   Order ID Customer Name    Product Name  Quantity  Unit Price  Total Amount\n",
       "0         1  Rahul Sharma  Wireless Mouse         2       15.99         31.98\n",
       "1         2   Priya Patel   USB-C Adapter         1       12.50         12.50\n",
       "2         3    Amit Kumar        Keyboard         1       29.99         29.99\n",
       "3         4    Neha Singh         Monitor         1      199.99        199.99\n",
       "4         5   Ananya Iyer    Laptop Stand         3       24.50         73.50"
      ]
     },
     "execution_count": 5,
     "metadata": {},
     "output_type": "execute_result"
    }
   ],
   "source": [
    "df.head()"
   ]
  },
  {
   "cell_type": "markdown",
   "metadata": {},
   "source": [
    "# Generate PDF Invoice"
   ]
  },
  {
   "cell_type": "code",
   "execution_count": 6,
   "metadata": {},
   "outputs": [
    {
     "name": "stdout",
     "output_type": "stream",
     "text": [
      "All the pdf invoices has been generated successfully\n"
     ]
    }
   ],
   "source": [
    "# Create directory to store invoices\n",
    "os.makedirs('invoices',exist_ok=True)\n",
    "for _,j in df.iterrows():\n",
    "    file=f\"invoices/invoice_{j['Order ID']}.pdf\"\n",
    "    pdf=SimpleDocTemplate(filename=file,pagesize=A4)\n",
    "    elements=[]\n",
    "    invoice_data=[\n",
    "        [\"Invoice Number\",j['Order ID']],\n",
    "        ['Date of Purchase',dt.datetime.today().strftime('%Y-%m-%d')],\n",
    "        ['Customer Name',j['Customer Name']],\n",
    "        ['Product Name',j['Product Name']],\n",
    "        ['Quantiity',j['Quantity']],\n",
    "        ['Unit Price',j['Unit Price']],\n",
    "        ['Total Amount',j['Total Amount']]\n",
    "    ]\n",
    "    style = TableStyle([\n",
    "    ('BACKGROUND', (0, 0), (1, 0), colors.black),\n",
    "    ('TEXTCOLOR', (0, 0), (1, 0), colors.white),\n",
    "    ('ALIGN', (0, 0), (-1, -1), 'CENTER'),\n",
    "    ('FONTSIZE', (0, 0), (-1, -1), 12),\n",
    "    ('GRID', (0, 0), (-1, -1), 1, colors.black)\n",
    "    ])\n",
    "    table=Table(invoice_data)\n",
    "    table.setStyle(style)\n",
    "    elements.append(table)\n",
    "    pdf.build(elements)\n",
    "print(\"All the pdf invoices has been generated successfully\")"
   ]
  }
 ],
 "metadata": {
  "kernelspec": {
   "display_name": "base",
   "language": "python",
   "name": "python3"
  },
  "language_info": {
   "codemirror_mode": {
    "name": "ipython",
    "version": 3
   },
   "file_extension": ".py",
   "mimetype": "text/x-python",
   "name": "python",
   "nbconvert_exporter": "python",
   "pygments_lexer": "ipython3",
   "version": "3.12.7"
  }
 },
 "nbformat": 4,
 "nbformat_minor": 2
}
